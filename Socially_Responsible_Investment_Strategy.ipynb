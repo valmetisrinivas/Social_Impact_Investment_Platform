{
  "cells": [
    {
      "cell_type": "code",
      "source": [
        "!pip install crewai==0.28.8 crewai_tools==0.1.6 langchain_community==0.0.29\n",
        "!pip install gradio"
      ],
      "metadata": {
        "id": "lx7HTsSoyMR6"
      },
      "execution_count": null,
      "outputs": []
    },
    {
      "cell_type": "code",
      "source": [
        "import warnings\n",
        "warnings.filterwarnings('ignore')"
      ],
      "metadata": {
        "id": "AHmbbjcN5Dy2"
      },
      "execution_count": null,
      "outputs": []
    },
    {
      "cell_type": "code",
      "source": [
        "from crewai import Agent, Task, Crew\n",
        "from crewai import Crew, Process\n",
        "from langchain_openai import ChatOpenAI\n",
        "from crewai_tools import ScrapeWebsiteTool, SerperDevTool\n",
        "import gradio as gr\n",
        "import os\n",
        "from google.colab import userdata"
      ],
      "metadata": {
        "id": "IhkRdQOc5kea"
      },
      "execution_count": null,
      "outputs": []
    },
    {
      "cell_type": "code",
      "source": [
        "# os.environ[\"SERPER_API_KEY\"] = os.getenv('SERPER_API_KEY')\n",
        "os.environ[\"SERPER_API_KEY\"] = userdata.get('SERPER_API_KEY')"
      ],
      "metadata": {
        "id": "SbOvQm8v5o0e"
      },
      "execution_count": null,
      "outputs": []
    },
    {
      "cell_type": "code",
      "source": [
        "search_tool = SerperDevTool()\n",
        "scrape_tool = ScrapeWebsiteTool()\n",
        "# if using jupyter notebook, use <os.getenv('OPENAI_API_KEY')>\n",
        "llm=ChatOpenAI(model=\"gpt-4o-mini\", openai_api_key = userdata.get('OPENAI_API_KEY'), temperature=0.7)"
      ],
      "metadata": {
        "id": "vGuN4Bz26K9D"
      },
      "execution_count": null,
      "outputs": []
    },
    {
      "cell_type": "code",
      "source": [
        "data_analyst_agent = Agent(\n",
        "    role=\"Data Analyst\",\n",
        "    goal=\"First step is to monitor markets in the given country to identify companies with \"\n",
        "         \"highest investments or contribution to \"\n",
        "         \"socially responsible causes like CSR (corporate social responsibility), \"\n",
        "         \"ESG (environment, social and governance), chaity trust etc.,. \"\n",
        "         \"Main goal is to monitor and analyze market data of only these stock trading codes \"\n",
        "         \"identified in first step in real-time to identify trends and predict market movements.\",\n",
        "    backstory=\"Specializing in social responsible activities and financial markets, this agent \"\n",
        "              \"uses statistical modeling and machine learning \"\n",
        "              \"to provide crucial insights. With a knack for data, \"\n",
        "              \"the Data Analyst Agent is the cornerstone for \"\n",
        "              \"informing trading decisions.\",\n",
        "    verbose=True,\n",
        "    allow_delegation=True,\n",
        "    tools = [scrape_tool, search_tool],\n",
        "    llm=llm\n",
        ")"
      ],
      "metadata": {
        "id": "A9J0kPVj6GkH"
      },
      "execution_count": null,
      "outputs": []
    },
    {
      "cell_type": "code",
      "source": [
        "trading_strategy_agent = Agent(\n",
        "    role=\"Trading Strategy Developer\",\n",
        "    goal=\"Develop and test various trading strategies based \"\n",
        "         \"on insights from the Data Analyst Agent.\",\n",
        "    backstory=\"Equipped with a deep understanding of financial \"\n",
        "              \"markets, portfolio analysis and quantitative analysis, \"\n",
        "              \"this agent devises and refines trading strategies. \"\n",
        "              \"Given a set of stock code options (for example a set of 5 codes) along with \"\n",
        "              \"the number of top stocks to be shortlisted from the same set of stock code options (for example 3 out of the given 5) \"\n",
        "              \"and the total initial capital to be invested in the shortlisted stocks \"\n",
        "              \"in order to decide on portfolio of stocks to invest-in. \"\n",
        "              \"It evaluates the performance of different approaches to determine \"\n",
        "              \"the most profitable and risk-averse options \"\n",
        "              \"before recommending the portfolio of stocks, their quantities and investment amount allocation.\",\n",
        "    verbose=True,\n",
        "    allow_delegation=True,\n",
        "    tools = [scrape_tool, search_tool],\n",
        "    llm=llm\n",
        ")"
      ],
      "metadata": {
        "id": "xzgRJOVZ6Ofd"
      },
      "execution_count": null,
      "outputs": []
    },
    {
      "cell_type": "code",
      "source": [
        "execution_agent = Agent(\n",
        "    role=\"Trade Advisor\",\n",
        "    goal=\"Suggest optimal trade execution strategies \"\n",
        "         \"based on approved trading strategies.\",\n",
        "    backstory=\"This agent specializes in analyzing the timing, price, \"\n",
        "              \"and logistical details of potential trades. By evaluating \"\n",
        "              \"these factors, it provides well-founded suggestions for \"\n",
        "              \"when and how trades should be executed to maximize \"\n",
        "              \"efficiency and adherence to strategy.\",\n",
        "    verbose=True,\n",
        "    allow_delegation=True,\n",
        "    tools = [scrape_tool, search_tool],\n",
        "    llm=llm\n",
        ")"
      ],
      "metadata": {
        "id": "PM38VUXo6R7M"
      },
      "execution_count": null,
      "outputs": []
    },
    {
      "cell_type": "code",
      "source": [
        "risk_management_agent = Agent(\n",
        "    role=\"Risk Advisor\",\n",
        "    goal=\"Evaluate and provide insights on the risks \"\n",
        "         \"associated with potential trading activities.\",\n",
        "    backstory=\"Armed with a deep understanding of risk assessment models \"\n",
        "              \"and market dynamics, this agent scrutinizes the potential \"\n",
        "              \"risks of proposed trades. It offers a detailed analysis of \"\n",
        "              \"risk exposure and suggests safeguards to ensure that \"\n",
        "              \"trading activities align with the firm’s risk tolerance.\",\n",
        "    verbose=True,\n",
        "    allow_delegation=True,\n",
        "    tools = [scrape_tool, search_tool],\n",
        "    llm=llm\n",
        ")"
      ],
      "metadata": {
        "id": "QmmXb8SJ6VQ1"
      },
      "execution_count": null,
      "outputs": []
    },
    {
      "cell_type": "code",
      "source": [
        "# Task for Data Analyst Agent: Analyze Market Data\n",
        "data_analysis_task = Task(\n",
        "    description=(\n",
        "        \"Must consider the country of interest ({country}). \"\n",
        "        \"Continuously monitor and analyze market data for \"\n",
        "        \"5 or more companies in the given country ({country}) with highest investments or contribution to \"\n",
        "        \"socially responsible causes like CSR (corporate social responsibility), \"\n",
        "        \"ESG (environment, social and governance), chaity trust etc.,. \"\n",
        "        \"Obtain stock trading codes for at least 5 companies and \"\n",
        "        \"assign them as the potential optional stocks list for investment \"\n",
        "        \"to an input variable >>> 'stock_set', which will be used for further processing and \"\n",
        "        \"generating the variable >>> 'stock_selecton'. \"\n",
        "        \"Use market research, statistical modeling and machine learning to \"\n",
        "        \"identify trends and predict market movements.\"\n",
        "    ),\n",
        "    expected_output=(\n",
        "        \"The identified list of company trading codes with highest investments \"\n",
        "        \"in CSR activities >>> ({stock_set}) in the country of interest ({country}) \"\n",
        "        \"with rationale why they were selected must appear in the report. \"\n",
        "        \"Insights and alerts about significant market \"\n",
        "        \"opportunities or threats for each of the stocks in {stock_set}.\"\n",
        "    ),\n",
        "    agent=data_analyst_agent,\n",
        ")"
      ],
      "metadata": {
        "id": "kJ8UFXBG6zr1"
      },
      "execution_count": null,
      "outputs": []
    },
    {
      "cell_type": "code",
      "source": [
        "# Task for Trading Strategy Agent: Develop Trading Strategies\n",
        "strategy_development_task = Task(\n",
        "    description=(\n",
        "        \"Develop and refine trading strategies based on \"\n",
        "        \"the insights from the Data Analyst and \"\n",
        "        \"user-defined risk tolerance ({risk_tolerance}). \"\n",
        "        \"Must consider the country of interest ({country}) and total initial capital ({initial_capital}), \"\n",
        "        \"trading preferences ({trading_strategy_preference}), \"\n",
        "        \"and how many stock options to be selected ({n_stock_options}) \"\n",
        "        \"from the given potential optional stocks list for investment ({stock_set}) identified by data_analyst_agent \"\n",
        "        \"and arrive at a short list of selected stocks for investment.\"\n",
        "        \"Assign this shortlist as values to the input variable >>> 'stock_selection' for further processing.\"\n",
        "    ),\n",
        "    expected_output=(\n",
        "        \"The shortlist of selected stocks for investment >>> ({stock_selection}) must appear in the output. \"\n",
        "        \"A brief on why the stocks in ({stock_selection}) were selected and why not others \"\n",
        "        \"must appear in the output \"\n",
        "        \"A set of potential trading strategies for ({stock_selection}) that align with the user's risk tolerance.\"\n",
        "        \"An estimation of quantities and investment amount for each of the selected stocks in ({stock_selection}) \"\n",
        "        \"to appear in the output. \"\n",
        "        \"Under each trading strategy, briefly explain why certain stocks from ({stock_selection}) are cosidered \"\n",
        "        \"and why not others. This to appear in the output. \"\n",
        "    ),\n",
        "    agent=trading_strategy_agent,\n",
        ")"
      ],
      "metadata": {
        "id": "OmqQk5B27Kqa"
      },
      "execution_count": null,
      "outputs": []
    },
    {
      "cell_type": "code",
      "source": [
        "# Task for Trade Advisor Agent: Plan Trade Execution\n",
        "execution_planning_task = Task(\n",
        "    description=(\n",
        "        \"Analyze approved trading strategies to determine the \"\n",
        "        \"best execution methods for {stock_selection} that was recommended by trading_strategy_agent, \"\n",
        "        \"considering current market conditions and optimal pricing.\"\n",
        "    ),\n",
        "    expected_output=(\n",
        "        \"Detailed execution plans suggesting how and when to \"\n",
        "        \"execute trades for {stock_selection} that was recommended by trading_strategy_agent.\"\n",
        "    ),\n",
        "    agent=execution_agent,\n",
        ")"
      ],
      "metadata": {
        "id": "xnNJzDb97IbC"
      },
      "execution_count": null,
      "outputs": []
    },
    {
      "cell_type": "code",
      "source": [
        "# Task for Risk Advisor Agent: Assess Trading Risks\n",
        "risk_assessment_task = Task(\n",
        "    description=(\n",
        "        \"Evaluate the risks associated with the proposed trading \"\n",
        "        \"strategies and execution plans for {stock_selection} that was recommended by trading_strategy_agent. \"\n",
        "        \"Provide a detailed analysis of potential risks \"\n",
        "        \"and suggest mitigation strategies.\"\n",
        "    ),\n",
        "    expected_output=(\n",
        "        \"A comprehensive risk analysis report detailing potential \"\n",
        "        \"risks and mitigation recommendations for {stock_selection} that was recommended by trading_strategy_agent.\"\n",
        "    ),\n",
        "    agent=risk_management_agent,\n",
        ")"
      ],
      "metadata": {
        "id": "R-rAbDPt7Fwa"
      },
      "execution_count": null,
      "outputs": []
    },
    {
      "cell_type": "code",
      "source": [
        "# Define the crew with agents and tasks\n",
        "financial_trading_crew = Crew(\n",
        "    agents=[data_analyst_agent,\n",
        "            trading_strategy_agent,\n",
        "            execution_agent,\n",
        "            risk_management_agent],\n",
        "\n",
        "    tasks=[data_analysis_task,\n",
        "           strategy_development_task,\n",
        "           execution_planning_task,\n",
        "           risk_assessment_task],\n",
        "    # if using jupyter notebook, use <os.getenv('OPENAI_API_KEY')>\n",
        "    manager_llm=ChatOpenAI(model=\"gpt-4o-mini\", openai_api_key = userdata.get('OPENAI_API_KEY'), temperature=0.7),\n",
        "    full_output =True,\n",
        "    process=Process.hierarchical,\n",
        "    verbose=True\n",
        ")"
      ],
      "metadata": {
        "id": "8KZCH-dM7B8k"
      },
      "execution_count": null,
      "outputs": []
    },
    {
      "cell_type": "code",
      "source": [
        "# Function to handle the inputs and display the results\n",
        "def process_input(country, n_stocks, capital, risk_label, strategy_label, news_impact):\n",
        "    financial_trading_inputs = {\n",
        "        'country' : country.strip().capitalize(),\n",
        "        'stock_set': [],\n",
        "        'stock_selection': [],\n",
        "        'n_stock_options': int(n_stocks),\n",
        "        'initial_capital': int(capital),\n",
        "        'risk_tolerance': risk_label.strip(),\n",
        "        'trading_strategy_preference': strategy_label.strip(),\n",
        "        'news_impact_consideration': news_impact\n",
        "    }\n",
        "\n",
        "    result = financial_trading_crew.kickoff(inputs=financial_trading_inputs)\n",
        "    # global result\n",
        "    output1 = result['tasks_outputs'][0].exported_output+'\\n\\n=================================\\n=================================\\n'\n",
        "    output2 = result['tasks_outputs'][1].exported_output\n",
        "    output3 = result['tasks_outputs'][2].exported_output+'\\n\\n=================================\\n=================================\\n'\n",
        "    output4 = result['tasks_outputs'][3].exported_output\n",
        "    return output1, output2, output3, output4\n",
        "\n",
        "# Create the input fields\n",
        "country = gr.Textbox(label=\"Country Name\", placeholder=\"Enter country name\", value=\"USA\")\n",
        "n_stocks = gr.Slider(label=\"How Many Different Stocks You Want to Invest-in?\", minimum=1, maximum=10, step=1, value=5)\n",
        "initial_capital = gr.Number(label=\"How much capital you would like to invest\", minimum=50000, maximum=100000000, step=10000,value=500000)\n",
        "risk_label = gr.Dropdown(label=\"Your Risk Appetite Level\", choices=[\"high\", \"medium\", \"low\"], value=\"medium\")\n",
        "trading_strategy = gr.Dropdown(\n",
        "    label=\"Select Trading Strategy\",\n",
        "    choices=[\"day time trading\", \"swing trading\", \"scalping\", \"position trading\", \"algorithmic trading\", \"arbitrage\", \"news-based trading\"],\n",
        "    value=\"swing trading\"\n",
        ")\n",
        "news_impact = gr.Radio(label=\"News Impact Consideration\", choices=[True, False], value=True)\n",
        "\n",
        "# Create markdown output fields\n",
        "output1 = gr.Markdown(label=\"Companies Identified with Significant Investments in Social, Charitable, Environmental Activities\")\n",
        "output2 = gr.Markdown(label=\"Stocks Identified for Investment\")\n",
        "output3 = gr.Markdown(label=\"Investment Execution Startegies\")\n",
        "output4 = gr.Markdown(label=\"Risks & Mitigation strategies\")\n",
        "\n",
        "# Create submit and clear buttons\n",
        "submit_button = gr.Button(\"Submit\")\n",
        "clear_button = gr.Button(\"Clear\")\n",
        "\n",
        "# Create the layout and interface\n",
        "with gr.Blocks() as app:\n",
        "    gr.Markdown(\"\"\"# A Platform for Investing in Socially Responsible Companies in Your Country of Choice\n",
        "    ## After entering the details and hitting Submit button, wait for a few minutes for the results to appear. You will be pleasantly surprised with the results\"\"\")\n",
        "\n",
        "    with gr.Row():\n",
        "        with gr.Column():\n",
        "            country.render()\n",
        "            n_stocks.render()\n",
        "            initial_capital.render()\n",
        "        with gr.Column():\n",
        "            risk_label.render()\n",
        "            trading_strategy.render()\n",
        "            news_impact.render()\n",
        "\n",
        "    with gr.Row():\n",
        "        with gr.Column():\n",
        "            output1.render()\n",
        "            output2.render()\n",
        "        with gr.Column():\n",
        "            output3.render()\n",
        "            output4.render()\n",
        "\n",
        "    with gr.Row():  # Add the submit and clear buttons\n",
        "        submit_button.render()\n",
        "        clear_button.render()\n",
        "\n",
        "    # Link inputs and outputs to the submit button\n",
        "    submit_button.click(\n",
        "        fn=process_input,\n",
        "        inputs=[country, n_stocks, initial_capital, risk_label, trading_strategy, news_impact],\n",
        "        outputs=[output1, output2, output3, output4]\n",
        "    )\n",
        "\n",
        "    # Link the clear button to reset inputs and outputs\n",
        "    clear_button.click(\n",
        "        fn=lambda: (\"\", \"\", \"\", \"\"),  # Clear all outputs\n",
        "        inputs=[],\n",
        "        outputs=[output1, output2, output3, output4]\n",
        "    )\n",
        "    # Link inputs and outputs to function\n",
        "    submit_button.click(\n",
        "        fn=process_input,\n",
        "        inputs=[country, n_stocks, initial_capital, risk_label, trading_strategy, news_impact],\n",
        "        outputs=[output1, output2, output3, output4]\n",
        "    )\n",
        "\n",
        "# Launch the app\n",
        "app.launch(debug=True)"
      ],
      "metadata": {
        "id": "rBIqWloZ6_UM"
      },
      "execution_count": null,
      "outputs": []
    }
  ],
  "metadata": {
    "kernelspec": {
      "display_name": "Python 3 (ipykernel)",
      "language": "python",
      "name": "python3"
    },
    "language_info": {
      "codemirror_mode": {
        "name": "ipython",
        "version": 3
      },
      "file_extension": ".py",
      "mimetype": "text/x-python",
      "name": "python",
      "nbconvert_exporter": "python",
      "pygments_lexer": "ipython3",
      "version": "3.11.9"
    },
    "colab": {
      "provenance": []
    }
  },
  "nbformat": 4,
  "nbformat_minor": 0
}